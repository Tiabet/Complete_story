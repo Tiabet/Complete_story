{
  "nbformat": 4,
  "nbformat_minor": 0,
  "metadata": {
    "colab": {
      "provenance": [],
      "machine_shape": "hm",
      "gpuType": "T4",
      "mount_file_id": "1e6mmpak0VeQHYu4HKZUxrPOmrx8gXoex",
      "authorship_tag": "ABX9TyM5LB7ivi1c1wbU1g8HA3/M",
      "include_colab_link": true
    },
    "kernelspec": {
      "name": "python3",
      "display_name": "Python 3"
    },
    "language_info": {
      "name": "python"
    },
    "accelerator": "GPU",
    "widgets": {
      "application/vnd.jupyter.widget-state+json": {
        "dd861b8a4d0d4846ba60b534776a9db1": {
          "model_module": "@jupyter-widgets/controls",
          "model_name": "HBoxModel",
          "model_module_version": "1.5.0",
          "state": {
            "_dom_classes": [],
            "_model_module": "@jupyter-widgets/controls",
            "_model_module_version": "1.5.0",
            "_model_name": "HBoxModel",
            "_view_count": null,
            "_view_module": "@jupyter-widgets/controls",
            "_view_module_version": "1.5.0",
            "_view_name": "HBoxView",
            "box_style": "",
            "children": [
              "IPY_MODEL_c7292bf95b8e4958ba2fbb08559c2174",
              "IPY_MODEL_df32fd7de69345e2a86ba60f88584701",
              "IPY_MODEL_a95e7ddf86a1463189b60652f1e0723f"
            ],
            "layout": "IPY_MODEL_6f74c24d7c7247229d08b214ab06dc2b"
          }
        },
        "c7292bf95b8e4958ba2fbb08559c2174": {
          "model_module": "@jupyter-widgets/controls",
          "model_name": "HTMLModel",
          "model_module_version": "1.5.0",
          "state": {
            "_dom_classes": [],
            "_model_module": "@jupyter-widgets/controls",
            "_model_module_version": "1.5.0",
            "_model_name": "HTMLModel",
            "_view_count": null,
            "_view_module": "@jupyter-widgets/controls",
            "_view_module_version": "1.5.0",
            "_view_name": "HTMLView",
            "description": "",
            "description_tooltip": null,
            "layout": "IPY_MODEL_84b0ec9315bd449ea33419e6c483dd99",
            "placeholder": "​",
            "style": "IPY_MODEL_2bb0f452e3c24731874a3a468101ff31",
            "value": "  5%"
          }
        },
        "df32fd7de69345e2a86ba60f88584701": {
          "model_module": "@jupyter-widgets/controls",
          "model_name": "FloatProgressModel",
          "model_module_version": "1.5.0",
          "state": {
            "_dom_classes": [],
            "_model_module": "@jupyter-widgets/controls",
            "_model_module_version": "1.5.0",
            "_model_name": "FloatProgressModel",
            "_view_count": null,
            "_view_module": "@jupyter-widgets/controls",
            "_view_module_version": "1.5.0",
            "_view_name": "ProgressView",
            "bar_style": "",
            "description": "",
            "description_tooltip": null,
            "layout": "IPY_MODEL_b8f78dabb2384db99170af9f0f23fdc1",
            "max": 7509,
            "min": 0,
            "orientation": "horizontal",
            "style": "IPY_MODEL_7d73afcf746948a8970ccca69d9911cc",
            "value": 380
          }
        },
        "a95e7ddf86a1463189b60652f1e0723f": {
          "model_module": "@jupyter-widgets/controls",
          "model_name": "HTMLModel",
          "model_module_version": "1.5.0",
          "state": {
            "_dom_classes": [],
            "_model_module": "@jupyter-widgets/controls",
            "_model_module_version": "1.5.0",
            "_model_name": "HTMLModel",
            "_view_count": null,
            "_view_module": "@jupyter-widgets/controls",
            "_view_module_version": "1.5.0",
            "_view_name": "HTMLView",
            "description": "",
            "description_tooltip": null,
            "layout": "IPY_MODEL_286b28220ccd4d44837cd9a7f1dfe6a9",
            "placeholder": "​",
            "style": "IPY_MODEL_953bf625c88e469c9cb2c7b89f6f716e",
            "value": " 380/7509 [04:06&lt;1:08:32,  1.73it/s]"
          }
        },
        "6f74c24d7c7247229d08b214ab06dc2b": {
          "model_module": "@jupyter-widgets/base",
          "model_name": "LayoutModel",
          "model_module_version": "1.2.0",
          "state": {
            "_model_module": "@jupyter-widgets/base",
            "_model_module_version": "1.2.0",
            "_model_name": "LayoutModel",
            "_view_count": null,
            "_view_module": "@jupyter-widgets/base",
            "_view_module_version": "1.2.0",
            "_view_name": "LayoutView",
            "align_content": null,
            "align_items": null,
            "align_self": null,
            "border": null,
            "bottom": null,
            "display": null,
            "flex": null,
            "flex_flow": null,
            "grid_area": null,
            "grid_auto_columns": null,
            "grid_auto_flow": null,
            "grid_auto_rows": null,
            "grid_column": null,
            "grid_gap": null,
            "grid_row": null,
            "grid_template_areas": null,
            "grid_template_columns": null,
            "grid_template_rows": null,
            "height": null,
            "justify_content": null,
            "justify_items": null,
            "left": null,
            "margin": null,
            "max_height": null,
            "max_width": null,
            "min_height": null,
            "min_width": null,
            "object_fit": null,
            "object_position": null,
            "order": null,
            "overflow": null,
            "overflow_x": null,
            "overflow_y": null,
            "padding": null,
            "right": null,
            "top": null,
            "visibility": null,
            "width": null
          }
        },
        "84b0ec9315bd449ea33419e6c483dd99": {
          "model_module": "@jupyter-widgets/base",
          "model_name": "LayoutModel",
          "model_module_version": "1.2.0",
          "state": {
            "_model_module": "@jupyter-widgets/base",
            "_model_module_version": "1.2.0",
            "_model_name": "LayoutModel",
            "_view_count": null,
            "_view_module": "@jupyter-widgets/base",
            "_view_module_version": "1.2.0",
            "_view_name": "LayoutView",
            "align_content": null,
            "align_items": null,
            "align_self": null,
            "border": null,
            "bottom": null,
            "display": null,
            "flex": null,
            "flex_flow": null,
            "grid_area": null,
            "grid_auto_columns": null,
            "grid_auto_flow": null,
            "grid_auto_rows": null,
            "grid_column": null,
            "grid_gap": null,
            "grid_row": null,
            "grid_template_areas": null,
            "grid_template_columns": null,
            "grid_template_rows": null,
            "height": null,
            "justify_content": null,
            "justify_items": null,
            "left": null,
            "margin": null,
            "max_height": null,
            "max_width": null,
            "min_height": null,
            "min_width": null,
            "object_fit": null,
            "object_position": null,
            "order": null,
            "overflow": null,
            "overflow_x": null,
            "overflow_y": null,
            "padding": null,
            "right": null,
            "top": null,
            "visibility": null,
            "width": null
          }
        },
        "2bb0f452e3c24731874a3a468101ff31": {
          "model_module": "@jupyter-widgets/controls",
          "model_name": "DescriptionStyleModel",
          "model_module_version": "1.5.0",
          "state": {
            "_model_module": "@jupyter-widgets/controls",
            "_model_module_version": "1.5.0",
            "_model_name": "DescriptionStyleModel",
            "_view_count": null,
            "_view_module": "@jupyter-widgets/base",
            "_view_module_version": "1.2.0",
            "_view_name": "StyleView",
            "description_width": ""
          }
        },
        "b8f78dabb2384db99170af9f0f23fdc1": {
          "model_module": "@jupyter-widgets/base",
          "model_name": "LayoutModel",
          "model_module_version": "1.2.0",
          "state": {
            "_model_module": "@jupyter-widgets/base",
            "_model_module_version": "1.2.0",
            "_model_name": "LayoutModel",
            "_view_count": null,
            "_view_module": "@jupyter-widgets/base",
            "_view_module_version": "1.2.0",
            "_view_name": "LayoutView",
            "align_content": null,
            "align_items": null,
            "align_self": null,
            "border": null,
            "bottom": null,
            "display": null,
            "flex": null,
            "flex_flow": null,
            "grid_area": null,
            "grid_auto_columns": null,
            "grid_auto_flow": null,
            "grid_auto_rows": null,
            "grid_column": null,
            "grid_gap": null,
            "grid_row": null,
            "grid_template_areas": null,
            "grid_template_columns": null,
            "grid_template_rows": null,
            "height": null,
            "justify_content": null,
            "justify_items": null,
            "left": null,
            "margin": null,
            "max_height": null,
            "max_width": null,
            "min_height": null,
            "min_width": null,
            "object_fit": null,
            "object_position": null,
            "order": null,
            "overflow": null,
            "overflow_x": null,
            "overflow_y": null,
            "padding": null,
            "right": null,
            "top": null,
            "visibility": null,
            "width": null
          }
        },
        "7d73afcf746948a8970ccca69d9911cc": {
          "model_module": "@jupyter-widgets/controls",
          "model_name": "ProgressStyleModel",
          "model_module_version": "1.5.0",
          "state": {
            "_model_module": "@jupyter-widgets/controls",
            "_model_module_version": "1.5.0",
            "_model_name": "ProgressStyleModel",
            "_view_count": null,
            "_view_module": "@jupyter-widgets/base",
            "_view_module_version": "1.2.0",
            "_view_name": "StyleView",
            "bar_color": null,
            "description_width": ""
          }
        },
        "286b28220ccd4d44837cd9a7f1dfe6a9": {
          "model_module": "@jupyter-widgets/base",
          "model_name": "LayoutModel",
          "model_module_version": "1.2.0",
          "state": {
            "_model_module": "@jupyter-widgets/base",
            "_model_module_version": "1.2.0",
            "_model_name": "LayoutModel",
            "_view_count": null,
            "_view_module": "@jupyter-widgets/base",
            "_view_module_version": "1.2.0",
            "_view_name": "LayoutView",
            "align_content": null,
            "align_items": null,
            "align_self": null,
            "border": null,
            "bottom": null,
            "display": null,
            "flex": null,
            "flex_flow": null,
            "grid_area": null,
            "grid_auto_columns": null,
            "grid_auto_flow": null,
            "grid_auto_rows": null,
            "grid_column": null,
            "grid_gap": null,
            "grid_row": null,
            "grid_template_areas": null,
            "grid_template_columns": null,
            "grid_template_rows": null,
            "height": null,
            "justify_content": null,
            "justify_items": null,
            "left": null,
            "margin": null,
            "max_height": null,
            "max_width": null,
            "min_height": null,
            "min_width": null,
            "object_fit": null,
            "object_position": null,
            "order": null,
            "overflow": null,
            "overflow_x": null,
            "overflow_y": null,
            "padding": null,
            "right": null,
            "top": null,
            "visibility": null,
            "width": null
          }
        },
        "953bf625c88e469c9cb2c7b89f6f716e": {
          "model_module": "@jupyter-widgets/controls",
          "model_name": "DescriptionStyleModel",
          "model_module_version": "1.5.0",
          "state": {
            "_model_module": "@jupyter-widgets/controls",
            "_model_module_version": "1.5.0",
            "_model_name": "DescriptionStyleModel",
            "_view_count": null,
            "_view_module": "@jupyter-widgets/base",
            "_view_module_version": "1.2.0",
            "_view_name": "StyleView",
            "description_width": ""
          }
        }
      }
    }
  },
  "cells": [
    {
      "cell_type": "markdown",
      "metadata": {
        "id": "view-in-github",
        "colab_type": "text"
      },
      "source": [
        "<a href=\"https://colab.research.google.com/github/Tiabet/Complete_story/blob/master/Tensorflow_gpt2.ipynb\" target=\"_parent\"><img src=\"https://colab.research.google.com/assets/colab-badge.svg\" alt=\"Open In Colab\"/></a>"
      ]
    },
    {
      "cell_type": "code",
      "execution_count": 1,
      "metadata": {
        "id": "EINMLm04hVPz"
      },
      "outputs": [],
      "source": [
        "%%capture\n",
        "\n",
        "!pip install transformers"
      ]
    },
    {
      "cell_type": "code",
      "source": [
        "import tensorflow as tf\n",
        "from transformers import AutoTokenizer, GPT2Config\n",
        "from transformers import TFGPT2LMHeadModel"
      ],
      "metadata": {
        "id": "DI0P1xqOhYxz"
      },
      "execution_count": 110,
      "outputs": []
    },
    {
      "cell_type": "markdown",
      "source": [
        "모델 호출"
      ],
      "metadata": {
        "id": "gPSKUoGhhl-A"
      }
    },
    {
      "cell_type": "code",
      "source": [
        "# Initialize the tokenizer\n",
        "tokenizer = AutoTokenizer.from_pretrained('skt/kogpt2-base-v2')\n",
        "\n",
        "# Add special tokens, including [SEP]\n",
        "special_tokens = {'bos_token': '</s>', 'eos_token': '</s>', 'pad_token': '<pad>', 'sep_token': '<sep>'}\n",
        "tokenizer.add_special_tokens(special_tokens)\n",
        "\n",
        "# Load the existing model checkpoint\n",
        "model_config = GPT2Config.from_pretrained('skt/kogpt2-base-v2')\n",
        "\n",
        "# Add the new special token to the model's config\n",
        "\n",
        "model_config.sep_token_id = tokenizer.sep_token_id  # Add this line\n",
        "\n",
        "\n",
        "# Initialize the model\n",
        "model = TFGPT2LMHeadModel.from_pretrained('skt/kogpt2-base-v2', config=model_config, from_pt = True)\n",
        "\n",
        "model.resize_token_embeddings(len(tokenizer))"
      ],
      "metadata": {
        "colab": {
          "base_uri": "https://localhost:8080/"
        },
        "id": "Q77mDwQshg12",
        "outputId": "4c70dd1d-b928-4e24-cc68-0a8e0fdcb991"
      },
      "execution_count": 113,
      "outputs": [
        {
          "output_type": "stream",
          "name": "stderr",
          "text": [
            "Special tokens have been added in the vocabulary, make sure the associated word embeddings are fine-tuned or trained.\n",
            "Some weights of the PyTorch model were not used when initializing the TF 2.0 model TFGPT2LMHeadModel: ['transformer.h.0.attn.masked_bias', 'transformer.h.7.attn.masked_bias', 'transformer.h.6.attn.masked_bias', 'transformer.h.2.attn.masked_bias', 'transformer.h.9.attn.masked_bias', 'lm_head.weight', 'transformer.h.11.attn.masked_bias', 'transformer.h.3.attn.masked_bias', 'transformer.h.4.attn.masked_bias', 'transformer.h.8.attn.masked_bias', 'transformer.h.1.attn.masked_bias', 'transformer.h.5.attn.masked_bias', 'transformer.h.10.attn.masked_bias']\n",
            "- This IS expected if you are initializing TFGPT2LMHeadModel from a PyTorch model trained on another task or with another architecture (e.g. initializing a TFBertForSequenceClassification model from a BertForPreTraining model).\n",
            "- This IS NOT expected if you are initializing TFGPT2LMHeadModel from a PyTorch model that you expect to be exactly identical (e.g. initializing a TFBertForSequenceClassification model from a BertForSequenceClassification model).\n",
            "All the weights of TFGPT2LMHeadModel were initialized from the PyTorch model.\n",
            "If your task is similar to the task the model of the checkpoint was trained on, you can already use TFGPT2LMHeadModel for predictions without further training.\n"
          ]
        },
        {
          "output_type": "execute_result",
          "data": {
            "text/plain": [
              "<keras.src.layers.core.embedding.Embedding at 0x7d67b94fef50>"
            ]
          },
          "metadata": {},
          "execution_count": 113
        }
      ]
    },
    {
      "cell_type": "code",
      "source": [
        "print(tokenizer.bos_token_id)\n",
        "print(tokenizer.eos_token_id)\n",
        "print(tokenizer.pad_token_id)\n",
        "print('-' * 10)\n",
        "print(tokenizer.decode(1))\n",
        "print(tokenizer.decode(2))\n",
        "print(tokenizer.decode(3))\n",
        "print(tokenizer.decode(4))\n"
      ],
      "metadata": {
        "colab": {
          "base_uri": "https://localhost:8080/"
        },
        "id": "mAgxeT9EhhZA",
        "outputId": "ebf5a375-98d4-4838-b147-68583eecfe7d"
      },
      "execution_count": 97,
      "outputs": [
        {
          "output_type": "stream",
          "name": "stdout",
          "text": [
            "1\n",
            "1\n",
            "3\n",
            "----------\n",
            "</s>\n",
            "<usr>\n",
            "<pad>\n",
            "<sys>\n"
          ]
        }
      ]
    },
    {
      "cell_type": "markdown",
      "source": [
        "데이터셋 구축"
      ],
      "metadata": {
        "id": "YjE78mu-k3Gn"
      }
    },
    {
      "cell_type": "code",
      "source": [
        "import pandas as pd\n",
        "import tqdm"
      ],
      "metadata": {
        "id": "4jlvi46chpHa"
      },
      "execution_count": 6,
      "outputs": []
    },
    {
      "cell_type": "code",
      "source": [
        "# Initialize empty lists to store data\n",
        "sentence1_list = []\n",
        "sentence3_list = []\n",
        "output_list = []\n",
        "\n",
        "# Read the JSONL file line by line and extract data\n",
        "with open(\"/content/drive/MyDrive/nikluge-sc-2023-train.jsonl\", 'r', encoding='utf-8') as file:\n",
        "    for line in file:\n",
        "        data = eval(line)  # Evaluate the JSONL line as a Python dictionary\n",
        "        sentence1 = data['input']['sentence1']\n",
        "        sentence3 = data['input']['sentence3']\n",
        "        output = data['output']\n",
        "        sentence1_list.append(sentence1)\n",
        "        sentence3_list.append(sentence3)\n",
        "        output_list.append(output)\n",
        "\n",
        "# Create a Pandas DataFrame\n",
        "df = pd.DataFrame({'sentence1': sentence1_list, 'sentence3': sentence3_list, 'output': output_list})"
      ],
      "metadata": {
        "colab": {
          "base_uri": "https://localhost:8080/"
        },
        "id": "ZSQTF6BDkBmM",
        "outputId": "dfd36703-4a00-4d70-811c-621d09ace584"
      },
      "execution_count": 16,
      "outputs": [
        {
          "output_type": "stream",
          "name": "stdout",
          "text": [
            "                                    sentence1  \\\n",
            "0          시은이는 다음 주의 여름 휴가 이전에 기분을 전환하고 싶었다.   \n",
            "1                   우리는 의자를 큰 책상 주위에 빙 둘러놓았다.   \n",
            "2               우진이는 폭우로 독서실이 침수되었다는 소식을 들었다.   \n",
            "3                          나는 줄을 서서 배식을 기다렸다.   \n",
            "4                  그는 손빨래해야 하는 옷을 건조기에 넣어버렸다.   \n",
            "...                                       ...   \n",
            "120135             남자친구와 3주년을 맞이해 여행을 가고 싶었다.   \n",
            "120136  할머니가 오늘 길에서 봤던 꽃 이름이 기억나지 않는다고 말씀하셨다.   \n",
            "120137                    아이는 책상에 앉아 있지를 못했다.   \n",
            "120138              나는 친구들과 음식점에서 큰 소리로 떠들었다.   \n",
            "120139               가을이 되자 재희는 날씨가 추워짐을 느꼈다.   \n",
            "\n",
            "                                sentence3  \\\n",
            "0       예쁘게 꾸민 손톱을 보며 여행을 갈 생각에 한층 더 들떴다.   \n",
            "1                학생들이 모두 착석한 뒤 회의가 시작되었다.   \n",
            "2       다행히 우진이가 다니는 독서실은 무사해서 우진이는 안도했다.   \n",
            "3             나는 밥을 국에 말아 먹고, 반찬은 모두 버렸다.   \n",
            "4               그래서 결국 그는 다시 옷을 구매해야만 했다.   \n",
            "...                                   ...   \n",
            "120135             마음 편히 여행 계획을 세울 수 있었다.   \n",
            "120136    할머니는 아주 노랗고 큰 꽃잎이 네 장이었다고 대답했다.   \n",
            "120137             그러나 아이는 쉽게 습관이 들지 않았다.   \n",
            "120138       그래서 우리는 목소리를 낮춰 작은 소리로 대화했다.   \n",
            "120139   쇼핑몰을 천천히 둘러보던 재희는 긴팔 티셔츠를 하나 샀다.   \n",
            "\n",
            "                                        output  \n",
            "0                     그래서 네일샵에 가서 예쁘게 손톱을 칠했다.  \n",
            "1                   그러자 의자에 학생들이 하나 둘 앉기 시작했다.  \n",
            "2             그래서 우진이가 다니는 독서실도 침수되었을까 봐 걱정됐다.  \n",
            "3                    배식을 받아보니 내가 싫어하는 반찬만 있었다.  \n",
            "4                     그러자 그가 산 옷이 하루아침에 줄어버렸다.  \n",
            "...                                        ...  \n",
            "120135                        부모님께 여행 허락을 받았다.  \n",
            "120136              엄마가 할머니에게 꽃이 어떻게 생겼냐고 물었다.  \n",
            "120137             그래서 나는 아이에게 책상에 앉는 습관을 앉혔다.  \n",
            "120138  그러자 음식점 주인이 와서 우리가 큰 소리로 떠드는 것을 금지시켰다.  \n",
            "120139            재희는 추워질 날씨에 대비하기 위해 쇼핑몰로 갔다.  \n",
            "\n",
            "[120140 rows x 3 columns]\n"
          ]
        }
      ]
    },
    {
      "cell_type": "code",
      "source": [
        "train_data = df"
      ],
      "metadata": {
        "id": "59qcR0YZkJOd"
      },
      "execution_count": 18,
      "outputs": []
    },
    {
      "cell_type": "code",
      "source": [
        "batch_size = 16"
      ],
      "metadata": {
        "id": "sT189qlfiWhr"
      },
      "execution_count": 115,
      "outputs": []
    },
    {
      "cell_type": "code",
      "source": [
        "def get_story_data():\n",
        "  for sentence1, sentence3, output in zip(train_data.sentence1.to_list(), train_data.sentence3.to_list(), train_data.output.to_list()):\n",
        "    bos_token = [tokenizer.bos_token_id]\n",
        "    eos_token = [tokenizer.eos_token_id]\n",
        "    sent = tokenizer.encode('<usr>' + sentence1 +'<sep>' + sentence3 + '<sys>' + output)\n",
        "    yield bos_token + sent + eos_token\n",
        ""
      ],
      "metadata": {
        "id": "spBVVVYGiXgb"
      },
      "execution_count": 116,
      "outputs": []
    },
    {
      "cell_type": "code",
      "source": [
        "train_dataset = tf.data.Dataset.from_generator(get_story_data, output_types=tf.int32)"
      ],
      "metadata": {
        "id": "m3X3nsKbkoYp"
      },
      "execution_count": 117,
      "outputs": []
    },
    {
      "cell_type": "code",
      "source": [
        "train_dataset = train_dataset.padded_batch(batch_size=batch_size, padded_shapes=(None,), padding_values=tokenizer.pad_token_id)"
      ],
      "metadata": {
        "id": "9p74HW7CkrLh"
      },
      "execution_count": 118,
      "outputs": []
    },
    {
      "cell_type": "code",
      "source": [
        "adam = tf.keras.optimizers.Adam(learning_rate=3e-5, epsilon=1e-08)\n",
        "steps = len(train_data) // batch_size + 1\n",
        "print(steps)"
      ],
      "metadata": {
        "colab": {
          "base_uri": "https://localhost:8080/"
        },
        "id": "dHUWNJjmo-y0",
        "outputId": "b8aa2c76-8da6-459a-d59b-17e27b9df7e9"
      },
      "execution_count": 119,
      "outputs": [
        {
          "output_type": "stream",
          "name": "stdout",
          "text": [
            "7509\n"
          ]
        }
      ]
    },
    {
      "cell_type": "code",
      "source": [
        "EPOCHS = 3\n",
        "\n",
        "for epoch in range(EPOCHS):\n",
        "  epoch_loss = 0\n",
        "\n",
        "  for batch in tqdm.tqdm_notebook(train_dataset, total=steps):\n",
        "      with tf.GradientTape() as tape:\n",
        "          result = model(batch, labels=batch)\n",
        "          loss = result[0]\n",
        "          batch_loss = tf.reduce_mean(loss)\n",
        "\n",
        "      grads = tape.gradient(batch_loss, model.trainable_variables)\n",
        "      adam.apply_gradients(zip(grads, model.trainable_variables))\n",
        "      epoch_loss += batch_loss / steps\n",
        "\n",
        "  print('[Epoch: {:>4}] cost = {:>.9}'.format(epoch + 1, epoch_loss))"
      ],
      "metadata": {
        "colab": {
          "base_uri": "https://localhost:8080/",
          "height": 103,
          "referenced_widgets": [
            "dd861b8a4d0d4846ba60b534776a9db1",
            "c7292bf95b8e4958ba2fbb08559c2174",
            "df32fd7de69345e2a86ba60f88584701",
            "a95e7ddf86a1463189b60652f1e0723f",
            "6f74c24d7c7247229d08b214ab06dc2b",
            "84b0ec9315bd449ea33419e6c483dd99",
            "2bb0f452e3c24731874a3a468101ff31",
            "b8f78dabb2384db99170af9f0f23fdc1",
            "7d73afcf746948a8970ccca69d9911cc",
            "286b28220ccd4d44837cd9a7f1dfe6a9",
            "953bf625c88e469c9cb2c7b89f6f716e"
          ]
        },
        "id": "mhU8ExkW5YP1",
        "outputId": "c0600453-58c8-4ea0-dccc-fce7774aa4c3"
      },
      "execution_count": null,
      "outputs": [
        {
          "output_type": "stream",
          "name": "stderr",
          "text": [
            "<ipython-input-121-63f45aad8519>:6: TqdmDeprecationWarning: This function will be removed in tqdm==5.0.0\n",
            "Please use `tqdm.notebook.tqdm` instead of `tqdm.tqdm_notebook`\n",
            "  for batch in tqdm.tqdm_notebook(train_dataset, total=steps):\n"
          ]
        },
        {
          "output_type": "display_data",
          "data": {
            "text/plain": [
              "  0%|          | 0/7509 [00:00<?, ?it/s]"
            ],
            "application/vnd.jupyter.widget-view+json": {
              "version_major": 2,
              "version_minor": 0,
              "model_id": "dd861b8a4d0d4846ba60b534776a9db1"
            }
          },
          "metadata": {}
        }
      ]
    },
    {
      "cell_type": "code",
      "source": [],
      "metadata": {
        "id": "iILFA6GV5alh"
      },
      "execution_count": null,
      "outputs": []
    }
  ]
}