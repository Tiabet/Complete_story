{
  "nbformat": 4,
  "nbformat_minor": 0,
  "metadata": {
    "colab": {
      "provenance": [],
      "machine_shape": "hm",
      "gpuType": "T4",
      "mount_file_id": "1IYGsEZrPu20mThSN4-mG1p5RxL7I1KKf",
      "authorship_tag": "ABX9TyPzwfkdDf23lEYOjsUhmE65",
      "include_colab_link": true
    },
    "kernelspec": {
      "name": "python3",
      "display_name": "Python 3"
    },
    "language_info": {
      "name": "python"
    },
    "accelerator": "GPU",
    "widgets": {
      "application/vnd.jupyter.widget-state+json": {
        "87b1e7e359df44449f6052e4396b3b71": {
          "model_module": "@jupyter-widgets/controls",
          "model_name": "HBoxModel",
          "model_module_version": "1.5.0",
          "state": {
            "_dom_classes": [],
            "_model_module": "@jupyter-widgets/controls",
            "_model_module_version": "1.5.0",
            "_model_name": "HBoxModel",
            "_view_count": null,
            "_view_module": "@jupyter-widgets/controls",
            "_view_module_version": "1.5.0",
            "_view_name": "HBoxView",
            "box_style": "",
            "children": [
              "IPY_MODEL_416860655ce94687867f0da0c7a70f0d",
              "IPY_MODEL_f1b846b55b0d4db48de2e84b0ff7c1f4",
              "IPY_MODEL_ed854b0995c94ed3a25d2124ba1539c9"
            ],
            "layout": "IPY_MODEL_e0c8af2b7ed340dd8ddb30f8b92c2357"
          }
        },
        "416860655ce94687867f0da0c7a70f0d": {
          "model_module": "@jupyter-widgets/controls",
          "model_name": "HTMLModel",
          "model_module_version": "1.5.0",
          "state": {
            "_dom_classes": [],
            "_model_module": "@jupyter-widgets/controls",
            "_model_module_version": "1.5.0",
            "_model_name": "HTMLModel",
            "_view_count": null,
            "_view_module": "@jupyter-widgets/controls",
            "_view_module_version": "1.5.0",
            "_view_name": "HTMLView",
            "description": "",
            "description_tooltip": null,
            "layout": "IPY_MODEL_ff36f7be7aa94578aa111a3acba876e8",
            "placeholder": "​",
            "style": "IPY_MODEL_335597b774cc405fa18141bb6fd265aa",
            "value": "Epoch 9: 100%"
          }
        },
        "f1b846b55b0d4db48de2e84b0ff7c1f4": {
          "model_module": "@jupyter-widgets/controls",
          "model_name": "FloatProgressModel",
          "model_module_version": "1.5.0",
          "state": {
            "_dom_classes": [],
            "_model_module": "@jupyter-widgets/controls",
            "_model_module_version": "1.5.0",
            "_model_name": "FloatProgressModel",
            "_view_count": null,
            "_view_module": "@jupyter-widgets/controls",
            "_view_module_version": "1.5.0",
            "_view_name": "ProgressView",
            "bar_style": "success",
            "description": "",
            "description_tooltip": null,
            "layout": "IPY_MODEL_f9d5bc44b47a4f9a8604b49713c24fdf",
            "max": 1878,
            "min": 0,
            "orientation": "horizontal",
            "style": "IPY_MODEL_658f79c0622946d2a8b9cdfaaa4c8337",
            "value": 1878
          }
        },
        "ed854b0995c94ed3a25d2124ba1539c9": {
          "model_module": "@jupyter-widgets/controls",
          "model_name": "HTMLModel",
          "model_module_version": "1.5.0",
          "state": {
            "_dom_classes": [],
            "_model_module": "@jupyter-widgets/controls",
            "_model_module_version": "1.5.0",
            "_model_name": "HTMLModel",
            "_view_count": null,
            "_view_module": "@jupyter-widgets/controls",
            "_view_module_version": "1.5.0",
            "_view_name": "HTMLView",
            "description": "",
            "description_tooltip": null,
            "layout": "IPY_MODEL_999b8d6ec0c74b21b054a538b3fc7188",
            "placeholder": "​",
            "style": "IPY_MODEL_3211efa1ffb44bb79c3efba27281c727",
            "value": " 1878/1878 [34:10&lt;00:00,  1.09s/it, v_num=0]"
          }
        },
        "e0c8af2b7ed340dd8ddb30f8b92c2357": {
          "model_module": "@jupyter-widgets/base",
          "model_name": "LayoutModel",
          "model_module_version": "1.2.0",
          "state": {
            "_model_module": "@jupyter-widgets/base",
            "_model_module_version": "1.2.0",
            "_model_name": "LayoutModel",
            "_view_count": null,
            "_view_module": "@jupyter-widgets/base",
            "_view_module_version": "1.2.0",
            "_view_name": "LayoutView",
            "align_content": null,
            "align_items": null,
            "align_self": null,
            "border": null,
            "bottom": null,
            "display": "inline-flex",
            "flex": null,
            "flex_flow": "row wrap",
            "grid_area": null,
            "grid_auto_columns": null,
            "grid_auto_flow": null,
            "grid_auto_rows": null,
            "grid_column": null,
            "grid_gap": null,
            "grid_row": null,
            "grid_template_areas": null,
            "grid_template_columns": null,
            "grid_template_rows": null,
            "height": null,
            "justify_content": null,
            "justify_items": null,
            "left": null,
            "margin": null,
            "max_height": null,
            "max_width": null,
            "min_height": null,
            "min_width": null,
            "object_fit": null,
            "object_position": null,
            "order": null,
            "overflow": null,
            "overflow_x": null,
            "overflow_y": null,
            "padding": null,
            "right": null,
            "top": null,
            "visibility": null,
            "width": "100%"
          }
        },
        "ff36f7be7aa94578aa111a3acba876e8": {
          "model_module": "@jupyter-widgets/base",
          "model_name": "LayoutModel",
          "model_module_version": "1.2.0",
          "state": {
            "_model_module": "@jupyter-widgets/base",
            "_model_module_version": "1.2.0",
            "_model_name": "LayoutModel",
            "_view_count": null,
            "_view_module": "@jupyter-widgets/base",
            "_view_module_version": "1.2.0",
            "_view_name": "LayoutView",
            "align_content": null,
            "align_items": null,
            "align_self": null,
            "border": null,
            "bottom": null,
            "display": null,
            "flex": null,
            "flex_flow": null,
            "grid_area": null,
            "grid_auto_columns": null,
            "grid_auto_flow": null,
            "grid_auto_rows": null,
            "grid_column": null,
            "grid_gap": null,
            "grid_row": null,
            "grid_template_areas": null,
            "grid_template_columns": null,
            "grid_template_rows": null,
            "height": null,
            "justify_content": null,
            "justify_items": null,
            "left": null,
            "margin": null,
            "max_height": null,
            "max_width": null,
            "min_height": null,
            "min_width": null,
            "object_fit": null,
            "object_position": null,
            "order": null,
            "overflow": null,
            "overflow_x": null,
            "overflow_y": null,
            "padding": null,
            "right": null,
            "top": null,
            "visibility": null,
            "width": null
          }
        },
        "335597b774cc405fa18141bb6fd265aa": {
          "model_module": "@jupyter-widgets/controls",
          "model_name": "DescriptionStyleModel",
          "model_module_version": "1.5.0",
          "state": {
            "_model_module": "@jupyter-widgets/controls",
            "_model_module_version": "1.5.0",
            "_model_name": "DescriptionStyleModel",
            "_view_count": null,
            "_view_module": "@jupyter-widgets/base",
            "_view_module_version": "1.2.0",
            "_view_name": "StyleView",
            "description_width": ""
          }
        },
        "f9d5bc44b47a4f9a8604b49713c24fdf": {
          "model_module": "@jupyter-widgets/base",
          "model_name": "LayoutModel",
          "model_module_version": "1.2.0",
          "state": {
            "_model_module": "@jupyter-widgets/base",
            "_model_module_version": "1.2.0",
            "_model_name": "LayoutModel",
            "_view_count": null,
            "_view_module": "@jupyter-widgets/base",
            "_view_module_version": "1.2.0",
            "_view_name": "LayoutView",
            "align_content": null,
            "align_items": null,
            "align_self": null,
            "border": null,
            "bottom": null,
            "display": null,
            "flex": "2",
            "flex_flow": null,
            "grid_area": null,
            "grid_auto_columns": null,
            "grid_auto_flow": null,
            "grid_auto_rows": null,
            "grid_column": null,
            "grid_gap": null,
            "grid_row": null,
            "grid_template_areas": null,
            "grid_template_columns": null,
            "grid_template_rows": null,
            "height": null,
            "justify_content": null,
            "justify_items": null,
            "left": null,
            "margin": null,
            "max_height": null,
            "max_width": null,
            "min_height": null,
            "min_width": null,
            "object_fit": null,
            "object_position": null,
            "order": null,
            "overflow": null,
            "overflow_x": null,
            "overflow_y": null,
            "padding": null,
            "right": null,
            "top": null,
            "visibility": null,
            "width": null
          }
        },
        "658f79c0622946d2a8b9cdfaaa4c8337": {
          "model_module": "@jupyter-widgets/controls",
          "model_name": "ProgressStyleModel",
          "model_module_version": "1.5.0",
          "state": {
            "_model_module": "@jupyter-widgets/controls",
            "_model_module_version": "1.5.0",
            "_model_name": "ProgressStyleModel",
            "_view_count": null,
            "_view_module": "@jupyter-widgets/base",
            "_view_module_version": "1.2.0",
            "_view_name": "StyleView",
            "bar_color": null,
            "description_width": ""
          }
        },
        "999b8d6ec0c74b21b054a538b3fc7188": {
          "model_module": "@jupyter-widgets/base",
          "model_name": "LayoutModel",
          "model_module_version": "1.2.0",
          "state": {
            "_model_module": "@jupyter-widgets/base",
            "_model_module_version": "1.2.0",
            "_model_name": "LayoutModel",
            "_view_count": null,
            "_view_module": "@jupyter-widgets/base",
            "_view_module_version": "1.2.0",
            "_view_name": "LayoutView",
            "align_content": null,
            "align_items": null,
            "align_self": null,
            "border": null,
            "bottom": null,
            "display": null,
            "flex": null,
            "flex_flow": null,
            "grid_area": null,
            "grid_auto_columns": null,
            "grid_auto_flow": null,
            "grid_auto_rows": null,
            "grid_column": null,
            "grid_gap": null,
            "grid_row": null,
            "grid_template_areas": null,
            "grid_template_columns": null,
            "grid_template_rows": null,
            "height": null,
            "justify_content": null,
            "justify_items": null,
            "left": null,
            "margin": null,
            "max_height": null,
            "max_width": null,
            "min_height": null,
            "min_width": null,
            "object_fit": null,
            "object_position": null,
            "order": null,
            "overflow": null,
            "overflow_x": null,
            "overflow_y": null,
            "padding": null,
            "right": null,
            "top": null,
            "visibility": null,
            "width": null
          }
        },
        "3211efa1ffb44bb79c3efba27281c727": {
          "model_module": "@jupyter-widgets/controls",
          "model_name": "DescriptionStyleModel",
          "model_module_version": "1.5.0",
          "state": {
            "_model_module": "@jupyter-widgets/controls",
            "_model_module_version": "1.5.0",
            "_model_name": "DescriptionStyleModel",
            "_view_count": null,
            "_view_module": "@jupyter-widgets/base",
            "_view_module_version": "1.2.0",
            "_view_name": "StyleView",
            "description_width": ""
          }
        }
      }
    }
  },
  "cells": [
    {
      "cell_type": "markdown",
      "metadata": {
        "id": "view-in-github",
        "colab_type": "text"
      },
      "source": [
        "<a href=\"https://colab.research.google.com/github/Tiabet/Complete_story/blob/master/KoBART_Baseline_Training.ipynb\" target=\"_parent\"><img src=\"https://colab.research.google.com/assets/colab-badge.svg\" alt=\"Open In Colab\"/></a>"
      ]
    },
    {
      "cell_type": "code",
      "execution_count": 1,
      "metadata": {
        "id": "A2P9i6LD1fQD"
      },
      "outputs": [],
      "source": [
        "%%capture\n",
        "\n",
        "!pip install transformers\n",
        "!pip install accelerate\n",
        "!pip install datasets\n",
        "!pip install evaluate\n",
        "!pip install rouge\n",
        "!pip install konlpy\n",
        "!pip install pytorch-lightning"
      ]
    },
    {
      "cell_type": "code",
      "source": [
        "import json\n",
        "import pandas as pd\n",
        "\n",
        "import logging\n",
        "import sys\n",
        "\n",
        "from datasets import Dataset\n",
        "from torch.utils.data import DataLoader\n",
        "from tokenizers.processors import TemplateProcessing\n",
        "import pytorch_lightning as pl\n",
        "from pytorch_lightning.callbacks import LearningRateMonitor\n",
        "from pytorch_lightning.loggers import TensorBoardLogger, WandbLogger\n",
        "import torch\n",
        "import torch.nn.functional as F\n",
        "import torchmetrics\n",
        "from torch.optim.lr_scheduler import CyclicLR\n",
        "from transformers import BartForConditionalGeneration, AutoTokenizer"
      ],
      "metadata": {
        "id": "Oq2yo9jA6xh0"
      },
      "execution_count": 1,
      "outputs": []
    },
    {
      "cell_type": "markdown",
      "source": [
        "DATA"
      ],
      "metadata": {
        "id": "erpcCejTG5CZ"
      }
    },
    {
      "cell_type": "code",
      "source": [
        "def jsonlload(fname):\n",
        "    with open(fname, \"r\", encoding=\"utf-8\") as f:\n",
        "        lines = f.read().strip().split(\"\\n\")\n",
        "        j_list = [json.loads(line) for line in lines]\n",
        "\n",
        "    return j_list\n",
        "\n",
        "\n",
        "def jsonldump(j_list, fname):\n",
        "    with open(fname, \"w\", encoding='utf-8') as f:\n",
        "        for json_data in j_list:\n",
        "            f.write(json.dumps(json_data, ensure_ascii=False)+'\\n')"
      ],
      "metadata": {
        "id": "2dUfe_WS3qey"
      },
      "execution_count": 2,
      "outputs": []
    },
    {
      "cell_type": "code",
      "source": [
        "def StoryDataLoader(fname, tokenizer, batch_size, max_length, mode=\"train\"):\n",
        "    \"\"\"\n",
        "    Build Data Loader\n",
        "\n",
        "    \"\"\"\n",
        "\n",
        "    dataset = Dataset.from_json(fname, mode)\n",
        "\n",
        "    if not tokenizer.cls_token:\n",
        "        tokenizer.cls_token = tokenizer.bos_token\n",
        "    if not tokenizer.sep_token:\n",
        "        tokenizer.sep_token = tokenizer.eos_token\n",
        "\n",
        "    tokenizer._tokenizer.post_processor = TemplateProcessing(\n",
        "        single=f\"{tokenizer.cls_token} $0 {tokenizer.sep_token}\",\n",
        "        pair=f\"{tokenizer.cls_token} $A {tokenizer.sep_token} $B:1 {tokenizer.sep_token}:1\",\n",
        "        special_tokens=[(tokenizer.cls_token, tokenizer.cls_token_id), (tokenizer.sep_token, tokenizer.sep_token_id)],\n",
        "    )\n",
        "\n",
        "    def preprocess_function(examples):\n",
        "        processed = {}\n",
        "        tokenizer_input = tokenizer(\n",
        "            examples[\"input\"][\"sentence1\"],\n",
        "            examples[\"input\"][\"sentence3\"],\n",
        "            padding=\"max_length\",\n",
        "            max_length=max_length,\n",
        "            truncation=True\n",
        "        )\n",
        "        processed[\"input_ids\"] = tokenizer_input[\"input_ids\"],\n",
        "        processed[\"attention_mask\"] = tokenizer_input[\"attention_mask\"]\n",
        "\n",
        "        if mode == \"train\":\n",
        "            tokenizer_output = tokenizer(\n",
        "                examples[\"output\"],\n",
        "                padding=\"max_length\",\n",
        "                max_length=max_length,\n",
        "                truncation=True\n",
        "            )\n",
        "            processed[\"decoder_input_ids\"] = tokenizer_output[\"input_ids\"]\n",
        "            processed[\"decoder_attention_mask\"] = tokenizer_output[\"attention_mask\"]\n",
        "\n",
        "        return processed\n",
        "\n",
        "    dataset = dataset.map(\n",
        "        preprocess_function,\n",
        "        remove_columns=dataset.column_names\n",
        "    ).with_format(\"torch\")\n",
        "    dataloader = DataLoader(dataset, shuffle=(True if mode==\"train\" else False), batch_size=batch_size)\n",
        "\n",
        "    return dataloader\n"
      ],
      "metadata": {
        "id": "mkD495zk4gcQ"
      },
      "execution_count": 3,
      "outputs": []
    },
    {
      "cell_type": "markdown",
      "source": [
        "MODULE"
      ],
      "metadata": {
        "id": "6uCxl5LRIR7I"
      }
    },
    {
      "cell_type": "markdown",
      "source": [
        "UTILS"
      ],
      "metadata": {
        "id": "_0p0P2V_IT4e"
      }
    },
    {
      "cell_type": "code",
      "source": [
        "def get_logger(name: str) -> logging.Logger:\n",
        "    \"\"\"Return logger for logging\n",
        "\n",
        "    Args:\n",
        "        name: logger name\n",
        "    \"\"\"\n",
        "    logger = logging.getLogger(name)\n",
        "    logger.propagate = False\n",
        "    logger.setLevel(logging.DEBUG)\n",
        "    if not logger.handlers:\n",
        "        handler = logging.StreamHandler(sys.stdout)\n",
        "        handler.setFormatter(logging.Formatter(\"[%(asctime)s] %(message)s\"))\n",
        "        logger.addHandler(handler)\n",
        "    return logger\n"
      ],
      "metadata": {
        "id": "IXev1ZL0IO5D"
      },
      "execution_count": 4,
      "outputs": []
    },
    {
      "cell_type": "markdown",
      "source": [
        "Train"
      ],
      "metadata": {
        "id": "XHaglVHbIgms"
      }
    },
    {
      "cell_type": "code",
      "source": [
        "import os\n",
        "import pytorch_lightning as pl\n",
        "from pytorch_lightning.callbacks import LearningRateMonitor\n",
        "from pytorch_lightning.loggers import TensorBoardLogger, WandbLogger\n",
        "from transformers import BartForConditionalGeneration, AutoTokenizer\n",
        "\n",
        "\n",
        "# Define your configuration parameters here\n",
        "output_dir = \"/content/drive/MyDrive\"\n",
        "model_path = \"gogamza/kobart-base-v2\"\n",
        "tokenizer_path = \"gogamza/kobart-base-v2\"\n",
        "batch_size = 8\n",
        "valid_batch_size = 8\n",
        "max_seq_len = 512\n",
        "accumulate_grad_batches = 1\n",
        "epochs = 10\n",
        "max_learning_rate = 2e-4\n",
        "min_learning_rate = 1e-5\n",
        "warmup_rate = 0.1\n",
        "logging_interval = 100\n",
        "evaluate_interval = 500\n",
        "seed = 42\n",
        "gpus=1\n",
        "\n",
        "\n",
        "tokenizer = AutoTokenizer.from_pretrained(tokenizer_path)\n",
        "# Define your BART model and its configuration\n",
        "model = BartForConditionalGeneration.from_pretrained(model_path)\n",
        "model.config.max_length = max_seq_len\n",
        "\n",
        "\n",
        "train_dataloader = StoryDataLoader(\"/content/drive/MyDrive/nikluge-sc-2023-test.jsonl\", tokenizer, batch_size, max_seq_len)\n",
        "valid_dataloader = StoryDataLoader(\"/content/drive/MyDrive/nikluge-sc-2023-dev.jsonl\", tokenizer, valid_batch_size, max_seq_len)\n",
        "total_steps = len(train_dataloader) * epochs\n"
      ],
      "metadata": {
        "colab": {
          "base_uri": "https://localhost:8080/"
        },
        "id": "udM_bbVvIdl0",
        "outputId": "6eaf7902-7130-41a7-8e53-eba8432e5df4"
      },
      "execution_count": 5,
      "outputs": [
        {
          "output_type": "stream",
          "name": "stderr",
          "text": [
            "You passed along `num_labels=3` with an incompatible id to label map: {'0': 'NEGATIVE', '1': 'POSITIVE'}. The number of labels wil be overwritten to 2.\n",
            "You passed along `num_labels=3` with an incompatible id to label map: {'0': 'NEGATIVE', '1': 'POSITIVE'}. The number of labels wil be overwritten to 2.\n",
            "You passed along `num_labels=3` with an incompatible id to label map: {'0': 'NEGATIVE', '1': 'POSITIVE'}. The number of labels wil be overwritten to 2.\n",
            "Using cls_token, but it is not set yet.\n",
            "Using sep_token, but it is not set yet.\n"
          ]
        }
      ]
    },
    {
      "cell_type": "code",
      "source": [
        "class BARTFinetuner(pl.LightningModule):\n",
        "    def __init__(self, model, tokenizer, learning_rate, warmup_steps):\n",
        "        super().__init__()\n",
        "        self.model = model\n",
        "        self.tokenizer = tokenizer\n",
        "        self.learning_rate = learning_rate\n",
        "        self.warmup_steps = warmup_steps\n",
        "\n",
        "    def forward(self, input_ids, attention_mask, decoder_input_ids, decoder_attention_mask):\n",
        "        return self.model(\n",
        "            input_ids=input_ids,\n",
        "            attention_mask=attention_mask,\n",
        "            decoder_input_ids=decoder_input_ids,\n",
        "            decoder_attention_mask=decoder_attention_mask,\n",
        "            labels=decoder_input_ids\n",
        "        )\n",
        "\n",
        "    def training_step(self, batch, batch_idx):\n",
        "        input_ids = batch[\"input_ids\"]\n",
        "        attention_mask = batch[\"attention_mask\"]\n",
        "        decoder_input_ids = batch[\"decoder_input_ids\"]\n",
        "        decoder_attention_mask = batch[\"decoder_attention_mask\"]\n",
        "\n",
        "        outputs = self(\n",
        "            input_ids=input_ids,\n",
        "            attention_mask=attention_mask,\n",
        "            decoder_input_ids=decoder_input_ids,\n",
        "            decoder_attention_mask=decoder_attention_mask\n",
        "        )\n",
        "\n",
        "        loss = outputs.loss\n",
        "        return loss\n",
        "\n",
        "    def configure_optimizers(self):\n",
        "        optimizer = torch.optim.AdamW(self.parameters(), lr=self.learning_rate)\n",
        "        scheduler = torch.optim.lr_scheduler.StepLR(optimizer, step_size=self.warmup_steps, gamma=0.1)\n",
        "        return [optimizer], [scheduler]\n",
        "\n",
        "# Create the Lightning module\n",
        "bart_finetuner = BARTFinetuner(model, tokenizer, learning_rate=max_learning_rate, warmup_steps=total_steps * warmup_rate)\n"
      ],
      "metadata": {
        "id": "2UNfseQvmoTe"
      },
      "execution_count": 8,
      "outputs": []
    },
    {
      "cell_type": "code",
      "source": [
        "# Define callbacks\n",
        "lr_monitor = LearningRateMonitor(logging_interval='step')\n",
        "tensorboard_logger = TensorBoardLogger(output_dir, name='logs')\n",
        "\n",
        "# Initialize the Trainer\n",
        "trainer = pl.Trainer(\n",
        "    max_epochs=epochs,\n",
        "    accumulate_grad_batches=accumulate_grad_batches,\n",
        "    callbacks=[lr_monitor],\n",
        "    log_every_n_steps=logging_interval,\n",
        "    val_check_interval=evaluate_interval,\n",
        ")\n",
        "\n",
        "# Train the model\n",
        "trainer.fit(bart_finetuner, train_dataloader, valid_dataloader)\n"
      ],
      "metadata": {
        "id": "Xk_-dBgY_7PL",
        "colab": {
          "base_uri": "https://localhost:8080/",
          "height": 426,
          "referenced_widgets": [
            "87b1e7e359df44449f6052e4396b3b71",
            "416860655ce94687867f0da0c7a70f0d",
            "f1b846b55b0d4db48de2e84b0ff7c1f4",
            "ed854b0995c94ed3a25d2124ba1539c9",
            "e0c8af2b7ed340dd8ddb30f8b92c2357",
            "ff36f7be7aa94578aa111a3acba876e8",
            "335597b774cc405fa18141bb6fd265aa",
            "f9d5bc44b47a4f9a8604b49713c24fdf",
            "658f79c0622946d2a8b9cdfaaa4c8337",
            "999b8d6ec0c74b21b054a538b3fc7188",
            "3211efa1ffb44bb79c3efba27281c727"
          ]
        },
        "outputId": "03a05ff6-f1e5-4698-ae45-d129aec972af"
      },
      "execution_count": 9,
      "outputs": [
        {
          "output_type": "stream",
          "name": "stderr",
          "text": [
            "INFO:pytorch_lightning.utilities.rank_zero:GPU available: True (cuda), used: True\n",
            "INFO:pytorch_lightning.utilities.rank_zero:TPU available: False, using: 0 TPU cores\n",
            "INFO:pytorch_lightning.utilities.rank_zero:IPU available: False, using: 0 IPUs\n",
            "INFO:pytorch_lightning.utilities.rank_zero:HPU available: False, using: 0 HPUs\n",
            "/usr/local/lib/python3.10/dist-packages/pytorch_lightning/trainer/configuration_validator.py:69: UserWarning: You passed in a `val_dataloader` but have no `validation_step`. Skipping val loop.\n",
            "  rank_zero_warn(\"You passed in a `val_dataloader` but have no `validation_step`. Skipping val loop.\")\n",
            "WARNING:pytorch_lightning.loggers.tensorboard:Missing logger folder: /content/lightning_logs\n",
            "INFO:pytorch_lightning.accelerators.cuda:LOCAL_RANK: 0 - CUDA_VISIBLE_DEVICES: [0]\n",
            "INFO:pytorch_lightning.callbacks.model_summary:\n",
            "  | Name  | Type                         | Params\n",
            "-------------------------------------------------------\n",
            "0 | model | BartForConditionalGeneration | 123 M \n",
            "-------------------------------------------------------\n",
            "123 M     Trainable params\n",
            "0         Non-trainable params\n",
            "123 M     Total params\n",
            "495.440   Total estimated model params size (MB)\n",
            "/usr/local/lib/python3.10/dist-packages/pytorch_lightning/trainer/connectors/data_connector.py:442: PossibleUserWarning: The dataloader, train_dataloader, does not have many workers which may be a bottleneck. Consider increasing the value of the `num_workers` argument` (try 8 which is the number of cpus on this machine) in the `DataLoader` init to improve performance.\n",
            "  rank_zero_warn(\n"
          ]
        },
        {
          "output_type": "display_data",
          "data": {
            "text/plain": [
              "Training: 0it [00:00, ?it/s]"
            ],
            "application/vnd.jupyter.widget-view+json": {
              "version_major": 2,
              "version_minor": 0,
              "model_id": "87b1e7e359df44449f6052e4396b3b71"
            }
          },
          "metadata": {}
        },
        {
          "output_type": "stream",
          "name": "stderr",
          "text": [
            "INFO:pytorch_lightning.utilities.rank_zero:`Trainer.fit` stopped: `max_epochs=10` reached.\n"
          ]
        }
      ]
    },
    {
      "cell_type": "code",
      "source": [
        "# Save the trained model\n",
        "model.save_pretrained(output_dir)\n",
        "tokenizer.save_pretrained(output_dir)"
      ],
      "metadata": {
        "id": "YeBZw8Xt_8ku",
        "colab": {
          "base_uri": "https://localhost:8080/"
        },
        "outputId": "f166feef-7d94-46f6-900b-7d331d2e9a08"
      },
      "execution_count": 10,
      "outputs": [
        {
          "output_type": "execute_result",
          "data": {
            "text/plain": [
              "('/content/drive/MyDrive/tokenizer_config.json',\n",
              " '/content/drive/MyDrive/special_tokens_map.json',\n",
              " '/content/drive/MyDrive/tokenizer.json')"
            ]
          },
          "metadata": {},
          "execution_count": 10
        }
      ]
    },
    {
      "cell_type": "code",
      "source": [],
      "metadata": {
        "id": "1tpGdigy2lEy"
      },
      "execution_count": null,
      "outputs": []
    }
  ]
}