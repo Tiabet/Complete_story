{
  "nbformat": 4,
  "nbformat_minor": 0,
  "metadata": {
    "colab": {
      "provenance": [],
      "authorship_tag": "ABX9TyNCHHnI9kWsGOlQ43QJPEQw",
      "include_colab_link": true
    },
    "kernelspec": {
      "name": "python3",
      "display_name": "Python 3"
    },
    "language_info": {
      "name": "python"
    }
  },
  "cells": [
    {
      "cell_type": "markdown",
      "metadata": {
        "id": "view-in-github",
        "colab_type": "text"
      },
      "source": [
        "<a href=\"https://colab.research.google.com/github/Tiabet/Complete_story/blob/master/KoGPT_Finetuning_without_Eval.ipynb\" target=\"_parent\"><img src=\"https://colab.research.google.com/assets/colab-badge.svg\" alt=\"Open In Colab\"/></a>"
      ]
    },
    {
      "cell_type": "code",
      "execution_count": null,
      "metadata": {
        "id": "12K2hQHnAlX6"
      },
      "outputs": [],
      "source": [
        "%%capture\n",
        "!pip install transformers\n",
        "!pip install accelerate\n",
        "!pip install datasets\n",
        "!pip install evaluate\n",
        "!pip install rouge"
      ]
    },
    {
      "cell_type": "code",
      "source": [],
      "metadata": {
        "id": "zLlu7MhgAtB3"
      },
      "execution_count": null,
      "outputs": []
    }
  ]
}